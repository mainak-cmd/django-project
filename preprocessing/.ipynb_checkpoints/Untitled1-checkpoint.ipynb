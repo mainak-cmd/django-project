{
 "cells": [
  {
   "cell_type": "code",
   "execution_count": 5,
   "metadata": {},
   "outputs": [],
   "source": [
    "import pickle\n",
    "\n",
    "with open('Quad_pickle','rb') as Q:\n",
    "    m1=pickle.load(Q)\n",
    "    \n",
    "    \n",
    "with open('neigh_pickle','rb') as N:\n",
    "    m2=pickle.load(N)\n",
    "     \n",
    "        \n",
    "with open('dummy_pickle','rb') as D:\n",
    "    m3=pickle.load(D)\n",
    "     \n",
    "with open('ran_pickle','rb') as R:\n",
    "    m4=pickle.load(R)\n",
    "    \n",
    "    \n",
    "\n"
   ]
  },
  {
   "cell_type": "code",
   "execution_count": 7,
   "metadata": {},
   "outputs": [
    {
     "name": "stdout",
     "output_type": "stream",
     "text": [
      "BMI : 33.6\n",
      "Pregnancies : 6\n",
      "Glucose : 148\n",
      "BloodPressure : 72\n",
      "DiabetesPedigreeFunction  : 35\n",
      "SkinThickness : 35\n",
      "Age : 50\n"
     ]
    },
    {
     "ename": "ValueError",
     "evalue": "operands could not be broadcast together with shapes (1,7) (8,) ",
     "output_type": "error",
     "traceback": [
      "\u001b[1;31m---------------------------------------------------------------------------\u001b[0m",
      "\u001b[1;31mValueError\u001b[0m                                Traceback (most recent call last)",
      "\u001b[1;32m<ipython-input-7-17f44303417c>\u001b[0m in \u001b[0;36m<module>\u001b[1;34m\u001b[0m\n\u001b[0;32m     14\u001b[0m \u001b[0mAge\u001b[0m \u001b[1;33m=\u001b[0m\u001b[0mfloat\u001b[0m\u001b[1;33m(\u001b[0m\u001b[0minput\u001b[0m\u001b[1;33m(\u001b[0m\u001b[1;34m\"Age : \"\u001b[0m  \u001b[1;33m)\u001b[0m\u001b[1;33m)\u001b[0m\u001b[1;33m\u001b[0m\u001b[1;33m\u001b[0m\u001b[0m\n\u001b[0;32m     15\u001b[0m \u001b[1;33m\u001b[0m\u001b[0m\n\u001b[1;32m---> 16\u001b[1;33m \u001b[0mdoctor_1\u001b[0m\u001b[1;33m=\u001b[0m\u001b[0mm1\u001b[0m\u001b[1;33m.\u001b[0m\u001b[0mpredict\u001b[0m\u001b[1;33m(\u001b[0m\u001b[1;33m[\u001b[0m\u001b[1;33m[\u001b[0m\u001b[0mBMI\u001b[0m\u001b[1;33m,\u001b[0m\u001b[0mPregnancies\u001b[0m\u001b[1;33m,\u001b[0m\u001b[0mGlucose\u001b[0m\u001b[1;33m,\u001b[0m\u001b[0mBloodPressure\u001b[0m\u001b[1;33m,\u001b[0m\u001b[0mDiabetesPedigreeFunction\u001b[0m\u001b[1;33m,\u001b[0m\u001b[0mSkinThickness\u001b[0m\u001b[1;33m,\u001b[0m\u001b[0mAge\u001b[0m\u001b[1;33m]\u001b[0m\u001b[1;33m]\u001b[0m\u001b[1;33m)\u001b[0m\u001b[1;33m\u001b[0m\u001b[1;33m\u001b[0m\u001b[0m\n\u001b[0m\u001b[0;32m     17\u001b[0m \u001b[0mprint\u001b[0m\u001b[1;33m(\u001b[0m\u001b[0mdoctor_1\u001b[0m\u001b[1;33m)\u001b[0m\u001b[1;33m\u001b[0m\u001b[1;33m\u001b[0m\u001b[0m\n",
      "\u001b[1;32mD:\\m y python\\enviourment\\anaconda\\lib\\site-packages\\sklearn\\discriminant_analysis.py\u001b[0m in \u001b[0;36mpredict\u001b[1;34m(self, X)\u001b[0m\n\u001b[0;32m    783\u001b[0m         \u001b[0mC\u001b[0m \u001b[1;33m:\u001b[0m \u001b[0mndarray\u001b[0m \u001b[0mof\u001b[0m \u001b[0mshape\u001b[0m \u001b[1;33m(\u001b[0m\u001b[0mn_samples\u001b[0m\u001b[1;33m,\u001b[0m\u001b[1;33m)\u001b[0m\u001b[1;33m\u001b[0m\u001b[1;33m\u001b[0m\u001b[0m\n\u001b[0;32m    784\u001b[0m         \"\"\"\n\u001b[1;32m--> 785\u001b[1;33m         \u001b[0md\u001b[0m \u001b[1;33m=\u001b[0m \u001b[0mself\u001b[0m\u001b[1;33m.\u001b[0m\u001b[0m_decision_function\u001b[0m\u001b[1;33m(\u001b[0m\u001b[0mX\u001b[0m\u001b[1;33m)\u001b[0m\u001b[1;33m\u001b[0m\u001b[1;33m\u001b[0m\u001b[0m\n\u001b[0m\u001b[0;32m    786\u001b[0m         \u001b[0my_pred\u001b[0m \u001b[1;33m=\u001b[0m \u001b[0mself\u001b[0m\u001b[1;33m.\u001b[0m\u001b[0mclasses_\u001b[0m\u001b[1;33m.\u001b[0m\u001b[0mtake\u001b[0m\u001b[1;33m(\u001b[0m\u001b[0md\u001b[0m\u001b[1;33m.\u001b[0m\u001b[0margmax\u001b[0m\u001b[1;33m(\u001b[0m\u001b[1;36m1\u001b[0m\u001b[1;33m)\u001b[0m\u001b[1;33m)\u001b[0m\u001b[1;33m\u001b[0m\u001b[1;33m\u001b[0m\u001b[0m\n\u001b[0;32m    787\u001b[0m         \u001b[1;32mreturn\u001b[0m \u001b[0my_pred\u001b[0m\u001b[1;33m\u001b[0m\u001b[1;33m\u001b[0m\u001b[0m\n",
      "\u001b[1;32mD:\\m y python\\enviourment\\anaconda\\lib\\site-packages\\sklearn\\discriminant_analysis.py\u001b[0m in \u001b[0;36m_decision_function\u001b[1;34m(self, X)\u001b[0m\n\u001b[0;32m    737\u001b[0m             \u001b[0mR\u001b[0m \u001b[1;33m=\u001b[0m \u001b[0mself\u001b[0m\u001b[1;33m.\u001b[0m\u001b[0mrotations_\u001b[0m\u001b[1;33m[\u001b[0m\u001b[0mi\u001b[0m\u001b[1;33m]\u001b[0m\u001b[1;33m\u001b[0m\u001b[1;33m\u001b[0m\u001b[0m\n\u001b[0;32m    738\u001b[0m             \u001b[0mS\u001b[0m \u001b[1;33m=\u001b[0m \u001b[0mself\u001b[0m\u001b[1;33m.\u001b[0m\u001b[0mscalings_\u001b[0m\u001b[1;33m[\u001b[0m\u001b[0mi\u001b[0m\u001b[1;33m]\u001b[0m\u001b[1;33m\u001b[0m\u001b[1;33m\u001b[0m\u001b[0m\n\u001b[1;32m--> 739\u001b[1;33m             \u001b[0mXm\u001b[0m \u001b[1;33m=\u001b[0m \u001b[0mX\u001b[0m \u001b[1;33m-\u001b[0m \u001b[0mself\u001b[0m\u001b[1;33m.\u001b[0m\u001b[0mmeans_\u001b[0m\u001b[1;33m[\u001b[0m\u001b[0mi\u001b[0m\u001b[1;33m]\u001b[0m\u001b[1;33m\u001b[0m\u001b[1;33m\u001b[0m\u001b[0m\n\u001b[0m\u001b[0;32m    740\u001b[0m             \u001b[0mX2\u001b[0m \u001b[1;33m=\u001b[0m \u001b[0mnp\u001b[0m\u001b[1;33m.\u001b[0m\u001b[0mdot\u001b[0m\u001b[1;33m(\u001b[0m\u001b[0mXm\u001b[0m\u001b[1;33m,\u001b[0m \u001b[0mR\u001b[0m \u001b[1;33m*\u001b[0m \u001b[1;33m(\u001b[0m\u001b[0mS\u001b[0m \u001b[1;33m**\u001b[0m \u001b[1;33m(\u001b[0m\u001b[1;33m-\u001b[0m\u001b[1;36m0.5\u001b[0m\u001b[1;33m)\u001b[0m\u001b[1;33m)\u001b[0m\u001b[1;33m)\u001b[0m\u001b[1;33m\u001b[0m\u001b[1;33m\u001b[0m\u001b[0m\n\u001b[0;32m    741\u001b[0m             \u001b[0mnorm2\u001b[0m\u001b[1;33m.\u001b[0m\u001b[0mappend\u001b[0m\u001b[1;33m(\u001b[0m\u001b[0mnp\u001b[0m\u001b[1;33m.\u001b[0m\u001b[0msum\u001b[0m\u001b[1;33m(\u001b[0m\u001b[0mX2\u001b[0m \u001b[1;33m**\u001b[0m \u001b[1;36m2\u001b[0m\u001b[1;33m,\u001b[0m \u001b[0maxis\u001b[0m\u001b[1;33m=\u001b[0m\u001b[1;36m1\u001b[0m\u001b[1;33m)\u001b[0m\u001b[1;33m)\u001b[0m\u001b[1;33m\u001b[0m\u001b[1;33m\u001b[0m\u001b[0m\n",
      "\u001b[1;31mValueError\u001b[0m: operands could not be broadcast together with shapes (1,7) (8,) "
     ]
    }
   ],
   "source": [
    "#TAKE INPUT FROM USER\n",
    "BMI= float(input(\"BMI : \"  ))\n",
    "\n",
    "Pregnancies = float(input(\"Pregnancies : \"  ))\n",
    "\n",
    "Glucose = float(input(\"Glucose : \"  ))\n",
    "\n",
    "BloodPressure = float(input(\"BloodPressure : \"  ))\n",
    "\n",
    "DiabetesPedigreeFunction = float(input(\"DiabetesPedigreeFunction  : \"  ))\n",
    "\n",
    "SkinThickness = float(input(\"SkinThickness : \"  ))\n",
    "\n",
    "Age =float(input(\"Age : \"  ))\n",
    "\n",
    "doctor_1=m1.predict([[Pregnancies,Glucose,BloodPressure,SkinThickness, ,DiabetesPedigreeFunction,Age]])\n",
    "print(doctor_1)"
   ]
  },
  {
   "cell_type": "markdown",
   "metadata": {},
   "source": [
    "Pregnancies = float(input(\"Pregnancies : \"  ))\n",
    "\n",
    "Glucose = float(input(\"Glucose : \"  ))\n",
    "\n",
    "BloodPressure = float(input(\"BloodPressure : \"  ))\n",
    "\n",
    "SkinThickness = float(input(\"SkinThickness : \"  ))\n",
    "\n",
    "Insulin = float(input(\"Insulin : \"  ))\n",
    "\n",
    "BMI= float(input(\"BMI : \"  ))\n",
    "\n",
    "DiabetesPedigreeFunction = float(input(\"DiabetesPedigreeFunction  : \"  ))\n",
    "\n",
    "Age =float(input(\"Age : \"  ))\n"
   ]
  },
  {
   "cell_type": "code",
   "execution_count": null,
   "metadata": {},
   "outputs": [],
   "source": [
    "Pregnancies = float(input(\"Pregnancies : \" ))\n",
    "\n",
    "Glucose = float(input(\"Glucose : \" ))\n",
    "\n",
    "BloodPressure = float(input(\"BloodPressure : \" ))\n",
    "\n",
    "SkinThickness = float(input(\"SkinThickness : \" ))\n",
    "\n",
    "Insulin = float(input(\"Insulin : \" ))\n",
    "\n",
    "BMI= float(input(\"BMI : \" ))\n",
    "\n",
    "DiabetesPedigreeFunction = float(input(\"DiabetesPedigreeFunction : \" ))\n",
    "\n",
    "Age =float(input(\"Age : \" ))\n",
    "\n",
    "doctor_1=m1.predict([[Pregnancies,Glucose,BloodPressure,SkinThickness,Insulin,BMI,DiabetesPedigreeFunction,Age]])\n",
    "doctor_2=m2.predict([[Pregnancies,Glucose,BloodPressure,SkinThickness,Insulin,BMI,DiabetesPedigreeFunction,Age]])\n",
    "doctor_3=m3.predict([[Pregnancies,Glucose,BloodPressure,SkinThickness,Insulin,BMI,DiabetesPedigreeFunction,Age]])\n",
    "doctor_4=m4.predict([[Pregnancies,Glucose,BloodPressure,SkinThickness,Insulin,BMI,DiabetesPedigreeFunction,Age]])\n",
    "\n",
    "l=[doctor_1,doctor_2,doctor_3,doctor_4]\n",
    "\n",
    "for i in l:\n",
    "    if int(i)==1:\n",
    "        print(\"positive\")\n",
    "    else:\n",
    "        print(\"negative\")\n",
    "    \n"
   ]
  },
  {
   "cell_type": "code",
   "execution_count": null,
   "metadata": {},
   "outputs": [],
   "source": [
    "Index(['Pregnancies', 'Glucose', 'BloodPressure', 'SkinThickness', 'Insulin',\n",
    "       'BMI', 'DiabetesPedigreeFunction', 'Age'],"
   ]
  },
  {
   "cell_type": "code",
   "execution_count": 10,
   "metadata": {},
   "outputs": [
    {
     "ename": "NameError",
     "evalue": "name 'Insulin' is not defined",
     "output_type": "error",
     "traceback": [
      "\u001b[1;31m---------------------------------------------------------------------------\u001b[0m",
      "\u001b[1;31mNameError\u001b[0m                                 Traceback (most recent call last)",
      "\u001b[1;32m<ipython-input-10-cc81aaed4c33>\u001b[0m in \u001b[0;36m<module>\u001b[1;34m\u001b[0m\n\u001b[1;32m----> 1\u001b[1;33m \u001b[0mdoctor_1\u001b[0m\u001b[1;33m=\u001b[0m\u001b[0mm1\u001b[0m\u001b[1;33m.\u001b[0m\u001b[0mpredict\u001b[0m\u001b[1;33m(\u001b[0m\u001b[1;33m[\u001b[0m\u001b[1;33m[\u001b[0m\u001b[0mPregnancies\u001b[0m\u001b[1;33m,\u001b[0m\u001b[0mGlucose\u001b[0m\u001b[1;33m,\u001b[0m\u001b[0mBloodPressure\u001b[0m\u001b[1;33m,\u001b[0m\u001b[0mSkinThickness\u001b[0m\u001b[1;33m,\u001b[0m\u001b[0mInsulin\u001b[0m\u001b[1;33m,\u001b[0m\u001b[0mBMI\u001b[0m\u001b[1;33m,\u001b[0m\u001b[0mDiabetesPedigreeFunction\u001b[0m\u001b[1;33m,\u001b[0m\u001b[0mAge\u001b[0m\u001b[1;33m]\u001b[0m\u001b[1;33m]\u001b[0m\u001b[1;33m)\u001b[0m\u001b[1;33m\u001b[0m\u001b[1;33m\u001b[0m\u001b[0m\n\u001b[0m\u001b[0;32m      2\u001b[0m \u001b[0mprint\u001b[0m\u001b[1;33m(\u001b[0m\u001b[0mdoctor_1\u001b[0m\u001b[1;33m)\u001b[0m\u001b[1;33m\u001b[0m\u001b[1;33m\u001b[0m\u001b[0m\n",
      "\u001b[1;31mNameError\u001b[0m: name 'Insulin' is not defined"
     ]
    }
   ],
   "source": [
    "doctor_1=m1.predict([[Pregnancies,Glucose,BloodPressure,SkinThickness,Insulin,BMI,DiabetesPedigreeFunction,Age]])\n",
    "print(doctor_1)"
   ]
  },
  {
   "cell_type": "code",
   "execution_count": null,
   "metadata": {},
   "outputs": [],
   "source": []
  }
 ],
 "metadata": {
  "kernelspec": {
   "display_name": "Python 3",
   "language": "python",
   "name": "python3"
  },
  "language_info": {
   "codemirror_mode": {
    "name": "ipython",
    "version": 3
   },
   "file_extension": ".py",
   "mimetype": "text/x-python",
   "name": "python",
   "nbconvert_exporter": "python",
   "pygments_lexer": "ipython3",
   "version": "3.8.5"
  }
 },
 "nbformat": 4,
 "nbformat_minor": 4
}
