{
 "cells": [
  {
   "cell_type": "code",
   "execution_count": 1,
   "metadata": {},
   "outputs": [],
   "source": [
    "import pickle\n",
    "\n",
    "with open('Quad_pickle','rb') as Q:\n",
    "    m1=pickle.load(Q)\n",
    "    \n",
    "    \n",
    "with open('neigh_pickle','rb') as N:\n",
    "    m2=pickle.load(N)\n",
    "     \n",
    "        \n",
    "with open('dummy_pickle','rb') as D:\n",
    "    m3=pickle.load(D)\n",
    "     \n",
    "with open('ran_pickle','rb') as R:\n",
    "    m4=pickle.load(R)\n",
    "    \n",
    "    \n",
    "\n"
   ]
  },
  {
   "cell_type": "markdown",
   "metadata": {},
   "source": [
    "Pregnancies = float(input(\"Pregnancies : \"  ))\n",
    "\n",
    "Glucose = float(input(\"Glucose : \"  ))\n",
    "\n",
    "BloodPressure = float(input(\"BloodPressure : \"  ))\n",
    "\n",
    "SkinThickness = float(input(\"SkinThickness : \"  ))\n",
    "\n",
    "Insulin = float(input(\"Insulin : \"  ))\n",
    "\n",
    "BMI= float(input(\"BMI : \"  ))\n",
    "\n",
    "DiabetesPedigreeFunction = float(input(\"DiabetesPedigreeFunction  : \"  ))\n",
    "\n",
    "Age =float(input(\"Age : \"  ))\n"
   ]
  },
  {
   "cell_type": "code",
   "execution_count": 2,
   "metadata": {},
   "outputs": [
    {
     "name": "stdout",
     "output_type": "stream",
     "text": [
      "Pregnancies : 2\n",
      "Glucose : 33\n",
      "BloodPressure : 33\n",
      "SkinThickness : 22\n",
      "Insulin : 2\n",
      "BMI : 22\n",
      "DiabetesPedigreeFunction : 22\n",
      "Age : 123\n"
     ]
    }
   ],
   "source": [
    "Pregnancies = float(input(\"Pregnancies : \" ))\n",
    "\n",
    "Glucose = float(input(\"Glucose : \" ))\n",
    "\n",
    "BloodPressure = float(input(\"BloodPressure : \" ))\n",
    "\n",
    "SkinThickness = float(input(\"SkinThickness : \" ))\n",
    "\n",
    "Insulin = float(input(\"Insulin : \" ))\n",
    "\n",
    "BMI= float(input(\"BMI : \" ))\n",
    "\n",
    "DiabetesPedigreeFunction = float(input(\"DiabetesPedigreeFunction : \" ))\n",
    "\n",
    "Age =float(input(\"Age : \" ))\n",
    "\n"
   ]
  },
  {
   "cell_type": "code",
   "execution_count": 3,
   "metadata": {},
   "outputs": [],
   "source": [
    "doctor_1=m1.predict([[Pregnancies,Glucose,BloodPressure,SkinThickness,Insulin,BMI,DiabetesPedigreeFunction,Age]])"
   ]
  },
  {
   "cell_type": "code",
   "execution_count": 4,
   "metadata": {},
   "outputs": [
    {
     "name": "stdout",
     "output_type": "stream",
     "text": [
      "[1]\n"
     ]
    }
   ],
   "source": [
    "print(doctor_1)"
   ]
  },
  {
   "cell_type": "code",
   "execution_count": null,
   "metadata": {},
   "outputs": [],
   "source": [
    "doctor_1=m1.predict([[Pregnancies,Glucose,BloodPressure,SkinThickness,Insulin,BMI,DiabetesPedigreeFunction,Age]])\n",
    "doctor_2=m2.predict([[Pregnancies,Glucose,BloodPressure,SkinThickness,Insulin,BMI,DiabetesPedigreeFunction,Age]])\n",
    "doctor_3=m3.predict([[Pregnancies,Glucose,BloodPressure,SkinThickness,Insulin,BMI,DiabetesPedigreeFunction,Age]])\n",
    "doctor_4=m4.predict([[Pregnancies,Glucose,BloodPressure,SkinThickness,Insulin,BMI,DiabetesPedigreeFunction,Age]])\n",
    "\n",
    "l=[doctor_1,doctor_2,doctor_3,doctor_4]\n",
    "\n",
    "for i in l:\n",
    "    if int(i)==1:\n",
    "        print(\"positive\")\n",
    "    else:\n",
    "        print(\"negative\")\n",
    "    \n"
   ]
  },
  {
   "cell_type": "code",
   "execution_count": null,
   "metadata": {},
   "outputs": [],
   "source": [
    "Index(['Pregnancies', 'Glucose', 'BloodPressure', 'SkinThickness', 'Insulin',\n",
    "       'BMI', 'DiabetesPedigreeFunction', 'Age'],"
   ]
  },
  {
   "cell_type": "code",
   "execution_count": 10,
   "metadata": {},
   "outputs": [
    {
     "ename": "NameError",
     "evalue": "name 'Insulin' is not defined",
     "output_type": "error",
     "traceback": [
      "\u001b[1;31m---------------------------------------------------------------------------\u001b[0m",
      "\u001b[1;31mNameError\u001b[0m                                 Traceback (most recent call last)",
      "\u001b[1;32m<ipython-input-10-cc81aaed4c33>\u001b[0m in \u001b[0;36m<module>\u001b[1;34m\u001b[0m\n\u001b[1;32m----> 1\u001b[1;33m \u001b[0mdoctor_1\u001b[0m\u001b[1;33m=\u001b[0m\u001b[0mm1\u001b[0m\u001b[1;33m.\u001b[0m\u001b[0mpredict\u001b[0m\u001b[1;33m(\u001b[0m\u001b[1;33m[\u001b[0m\u001b[1;33m[\u001b[0m\u001b[0mPregnancies\u001b[0m\u001b[1;33m,\u001b[0m\u001b[0mGlucose\u001b[0m\u001b[1;33m,\u001b[0m\u001b[0mBloodPressure\u001b[0m\u001b[1;33m,\u001b[0m\u001b[0mSkinThickness\u001b[0m\u001b[1;33m,\u001b[0m\u001b[0mInsulin\u001b[0m\u001b[1;33m,\u001b[0m\u001b[0mBMI\u001b[0m\u001b[1;33m,\u001b[0m\u001b[0mDiabetesPedigreeFunction\u001b[0m\u001b[1;33m,\u001b[0m\u001b[0mAge\u001b[0m\u001b[1;33m]\u001b[0m\u001b[1;33m]\u001b[0m\u001b[1;33m)\u001b[0m\u001b[1;33m\u001b[0m\u001b[1;33m\u001b[0m\u001b[0m\n\u001b[0m\u001b[0;32m      2\u001b[0m \u001b[0mprint\u001b[0m\u001b[1;33m(\u001b[0m\u001b[0mdoctor_1\u001b[0m\u001b[1;33m)\u001b[0m\u001b[1;33m\u001b[0m\u001b[1;33m\u001b[0m\u001b[0m\n",
      "\u001b[1;31mNameError\u001b[0m: name 'Insulin' is not defined"
     ]
    }
   ],
   "source": [
    "doctor_1=m1.predict([[Pregnancies,Glucose,BloodPressure,SkinThickness,Insulin,BMI,DiabetesPedigreeFunction,Age]])\n",
    "print(doctor_1)"
   ]
  },
  {
   "cell_type": "code",
   "execution_count": null,
   "metadata": {},
   "outputs": [],
   "source": []
  }
 ],
 "metadata": {
  "kernelspec": {
   "display_name": "Python 3",
   "language": "python",
   "name": "python3"
  },
  "language_info": {
   "codemirror_mode": {
    "name": "ipython",
    "version": 3
   },
   "file_extension": ".py",
   "mimetype": "text/x-python",
   "name": "python",
   "nbconvert_exporter": "python",
   "pygments_lexer": "ipython3",
   "version": "3.8.5"
  }
 },
 "nbformat": 4,
 "nbformat_minor": 4
}
